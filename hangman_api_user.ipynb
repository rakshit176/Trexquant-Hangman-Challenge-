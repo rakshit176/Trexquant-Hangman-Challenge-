{
 "cells": [
  {
   "cell_type": "markdown",
   "metadata": {},
   "source": [
    "# Trexquant Interview Project (The Hangman Game)\n",
    "\n",
    "* Copyright Trexquant Investment LP. All Rights Reserved. \n",
    "* Redistribution of this question without written consent from Trexquant is prohibited"
   ]
  },
  {
   "cell_type": "markdown",
   "metadata": {},
   "source": [
    "## Instruction:\n",
    "For this coding test, your mission is to write an algorithm that plays the game of Hangman through our API server. \n",
    "\n",
    "When a user plays Hangman, the server first selects a secret word at random from a list. The server then returns a row of underscores (space separated)—one for each letter in the secret word—and asks the user to guess a letter. If the user guesses a letter that is in the word, the word is redisplayed with all instances of that letter shown in the correct positions, along with any letters correctly guessed on previous turns. If the letter does not appear in the word, the user is charged with an incorrect guess. The user keeps guessing letters until either (1) the user has correctly guessed all the letters in the word\n",
    "or (2) the user has made six incorrect guesses.\n",
    "\n",
    "You are required to write a \"guess\" function that takes current word (with underscores) as input and returns a guess letter. You will use the API codes below to play 1,000 Hangman games. You have the opportunity to practice before you want to start recording your game results.\n",
    "\n",
    "Your algorithm is permitted to use a training set of approximately 250,000 dictionary words. Your algorithm will be tested on an entirely disjoint set of 250,000 dictionary words. Please note that this means the words that you will ultimately be tested on do NOT appear in the dictionary that you are given. You are not permitted to use any dictionary other than the training dictionary we provided. This requirement will be strictly enforced by code review.\n",
    "\n",
    "You are provided with a basic, working algorithm. This algorithm will match the provided masked string (e.g. a _ _ l e) to all possible words in the dictionary, tabulate the frequency of letters appearing in these possible words, and then guess the letter with the highest frequency of appearence that has not already been guessed. If there are no remaining words that match then it will default back to the character frequency distribution of the entire dictionary.\n",
    "\n",
    "This benchmark strategy is successful approximately 18% of the time. Your task is to design an algorithm that significantly outperforms this benchmark."
   ]
  },
  {
   "cell_type": "code",
   "execution_count": 1,
   "metadata": {
    "collapsed": true,
    "jupyter": {
     "outputs_hidden": true
    }
   },
   "outputs": [],
   "source": [
    "import json\n",
    "import requests\n",
    "import random\n",
    "import string\n",
    "import secrets\n",
    "import time\n",
    "import re\n",
    "import collections\n",
    "try:\n",
    "    from urllib.parse import parse_qs, urlencode, urlparse\n",
    "except ImportError:\n",
    "    from urlparse import parse_qs, urlparse\n",
    "    from urllib import urlencode"
   ]
  },
  {
   "cell_type": "code",
   "execution_count": 2,
   "metadata": {},
   "outputs": [],
   "source": [
    "import pandas as pd\n",
    "import numpy as np\n",
    "import matplotlib.pyplot as plt"
   ]
  },
  {
   "cell_type": "code",
   "execution_count": 3,
   "metadata": {},
   "outputs": [],
   "source": [
    "vowels = ['a', 'e', 'i', 'o', 'u']"
   ]
  },
  {
   "cell_type": "code",
   "execution_count": 7,
   "metadata": {},
   "outputs": [],
   "source": [
    "# for ratio of vowels to length of word\n",
    "def vowel_count(clean_word):\n",
    "    count = 0\n",
    "    for i in clean_word:\n",
    "        if i in vowels:\n",
    "            count = count+1.0\n",
    "    return count/len(clean_word)"
   ]
  },
  {
   "cell_type": "code",
   "execution_count": 8,
   "metadata": {},
   "outputs": [],
   "source": [
    "f = open(\"words_250000_train.txt\", \"r\")\n",
    "df = []\n",
    "for x in f:\n",
    "  df.append(x)"
   ]
  },
  {
   "cell_type": "code",
   "execution_count": 9,
   "metadata": {},
   "outputs": [],
   "source": [
    "for i in range(len(df)):\n",
    "    df[i] = df[i].replace(\"\\n\", \"\")"
   ]
  },
  {
   "cell_type": "code",
   "execution_count": 10,
   "metadata": {},
   "outputs": [
    {
     "data": {
      "text/plain": [
       "count    227300.000000\n",
       "mean          0.386889\n",
       "std           0.095527\n",
       "min           0.000000\n",
       "25%           0.333333\n",
       "50%           0.384615\n",
       "75%           0.444444\n",
       "max           1.000000\n",
       "dtype: float64"
      ]
     },
     "execution_count": 10,
     "metadata": {},
     "output_type": "execute_result"
    }
   ],
   "source": [
    "l=[]\n",
    "for words in df:\n",
    "    l.append(vowel_count(words))\n",
    "l = pd.Series(l)\n",
    "l.describe()"
   ]
  },
  {
   "cell_type": "code",
   "execution_count": 11,
   "metadata": {},
   "outputs": [
    {
     "data": {
      "text/plain": [
       "(array([1.2490e+03, 2.0000e+00, 6.8100e+02, 1.7410e+03, 6.7780e+03,\n",
       "        3.2538e+04, 3.5853e+04, 3.6370e+04, 6.0189e+04, 1.2807e+04,\n",
       "        2.8992e+04, 7.8220e+03, 7.7600e+02, 1.1180e+03, 1.0800e+02,\n",
       "        1.8300e+02, 5.4000e+01, 1.0000e+00, 0.0000e+00]),\n",
       " array([0.  , 0.05, 0.1 , 0.15, 0.2 , 0.25, 0.3 , 0.35, 0.4 , 0.45, 0.5 ,\n",
       "        0.55, 0.6 , 0.65, 0.7 , 0.75, 0.8 , 0.85, 0.9 , 0.95]),\n",
       " <BarContainer object of 19 artists>)"
      ]
     },
     "execution_count": 11,
     "metadata": {},
     "output_type": "execute_result"
    },
    {
     "data": {
      "image/png": "[encoded data removed]",
      "text/plain": [
       "<Figure size 640x480 with 1 Axes>"
      ]
     },
     "metadata": {},
     "output_type": "display_data"
    }
   ],
   "source": [
    "bins = np.arange(0.0, 1.0, 0.05)\n",
    "plt.hist(x = l, bins = bins)"
   ]
  },
  {
   "cell_type": "code",
   "execution_count": 11,
   "metadata": {},
   "outputs": [],
   "source": [
    "# From the above plot we can stastically say that if the number of vowels in it are greater than 0.55 times of its lenght than guessing a vowel will not be a good choice."
   ]
  },
  {
   "cell_type": "code",
   "execution_count": 16,
   "metadata": {},
   "outputs": [],
   "source": [
    "\n",
    "class HangmanAPI(object):\n",
    "    def __init__(self, access_token=None, session=None, timeout=None):\n",
    "        self.hangman_url = self.determine_hangman_url()\n",
    "        self.access_token = access_token\n",
    "        self.session = session or requests.Session()\n",
    "        self.timeout = timeout\n",
    "        self.guessed_letters = []\n",
    "\n",
    "        full_dictionary_location = \"words_250000_train.txt\"\n",
    "        self.full_dictionary = self.build_dictionary(full_dictionary_location)\n",
    "        self.full_dictionary_common_letter_sorted = collections.Counter(\"\".join(self.full_dictionary)).most_common()\n",
    "\n",
    "        self.current_dictionary = []\n",
    "\n",
    "        self.n_word_dictionary = self.build_n_word_dictionary(self.full_dictionary)\n",
    "\n",
    "    @staticmethod\n",
    "    def determine_hangman_url():\n",
    "        links = ['https://trexsim.com', 'https://sg.trexsim.com']\n",
    "\n",
    "        data = {link: 0 for link in links}\n",
    "\n",
    "        for link in links:\n",
    "\n",
    "            requests.get(link)\n",
    "\n",
    "            for i in range(10):\n",
    "                s = time.time()\n",
    "                requests.get(link)\n",
    "                data[link] = time.time() - s\n",
    "\n",
    "        link = sorted(data.items(), key=lambda x: x[1])[0][0]\n",
    "        link += '/trexsim/hangman'\n",
    "        return link\n",
    "\n",
    "    def build_n_word_dictionary(self, word_list):\n",
    "        n_word_dict = {i: [] for i in range(3, 30)}\n",
    "        max_length = self.find_max_length(word_list)\n",
    "\n",
    "        count = 3\n",
    "        while count <= max_length:\n",
    "            for word in word_list:\n",
    "                if len(word) >= count:\n",
    "                    for i in range(len(word) - count + 1):\n",
    "                        n_word_dict[count].append(word[i:i + count])\n",
    "            count += 1\n",
    "\n",
    "        return n_word_dict\n",
    "\n",
    "    def find_max_length(self, word_list):\n",
    "        max_length = 0\n",
    "        for word in word_list:\n",
    "            if len(word) > max_length:\n",
    "                max_length = len(word)\n",
    "        return max_length\n",
    "\n",
    "    def build_dictionary(self, dictionary_file_location):\n",
    "        with open(dictionary_file_location, \"r\") as text_file:\n",
    "            full_dictionary = text_file.read().splitlines()\n",
    "        return full_dictionary\n",
    "\n",
    "    def vowel_count(self, clean_word):\n",
    "        vowels = \"aeiou\"\n",
    "        count = sum(1 for char in clean_word if char in vowels)\n",
    "        return count / len(clean_word) if len(clean_word) > 0 else 0.0\n",
    "\n",
    "    def func(self, new_dictionary):\n",
    "        dictx = collections.Counter()\n",
    "        for words in new_dictionary:\n",
    "            temp = collections.Counter(words)\n",
    "            for i in temp:\n",
    "                temp[i] = 1\n",
    "                dictx = dictx + temp\n",
    "        return dictx\n",
    "\n",
    "    def func2(self, n_word_dictionary, clean_word):\n",
    "        new_dictionary = []\n",
    "        l = len(clean_word)\n",
    "        for dict_word in n_word_dictionary[l]:\n",
    "            if re.match(clean_word, dict_word):\n",
    "                new_dictionary.append(dict_word)\n",
    "        return new_dictionary\n",
    "\n",
    "    def guess(self, word, n_word_dictionary):\n",
    "        clean_word = word[::2].replace(\"_\", \".\")\n",
    "        len_word = len(clean_word)\n",
    "        current_dictionary = self.current_dictionary\n",
    "        new_dictionary = []\n",
    "\n",
    "        for dict_word in current_dictionary:\n",
    "            if len(dict_word) != len_word:\n",
    "                continue\n",
    "\n",
    "            if re.match(clean_word, dict_word):\n",
    "                new_dictionary.append(dict_word)\n",
    "\n",
    "        self.current_dictionary = new_dictionary\n",
    "\n",
    "        c = self.func(new_dictionary)\n",
    "        sorted_letter_count = c.most_common()\n",
    "\n",
    "        guess_letter = '!'\n",
    "\n",
    "        for letter, instance_count in sorted_letter_count:\n",
    "            if letter not in self.guessed_letters:\n",
    "                if letter in \"aeiou\" and self.vowel_count(clean_word) > 0.55:\n",
    "                    self.guessed_letters.append(letter)\n",
    "                    continue\n",
    "                guess_letter = letter\n",
    "                break\n",
    "\n",
    "        if guess_letter == '!':\n",
    "            new_dictionary = self.func2(n_word_dictionary, clean_word)\n",
    "            c = self.func(new_dictionary)\n",
    "            sorted_letter_count = c.most_common()\n",
    "            for letter, instance_count in sorted_letter_count:\n",
    "                if letter not in self.guessed_letters:\n",
    "                    if letter in \"aeiou\" and self.vowel_count(clean_word) > 0.55:\n",
    "                        self.guessed_letters.append(letter)\n",
    "                        continue\n",
    "                    guess_letter = letter\n",
    "                    break\n",
    "\n",
    "        if guess_letter == '!':\n",
    "            x = int(len(clean_word) / 2)\n",
    "            if x >= 3:\n",
    "                c = collections.Counter()\n",
    "                for i in range(len(clean_word) - x + 1):\n",
    "                    s = clean_word[i:i + x]\n",
    "                    new_dictionary = self.func2(n_word_dictionary, s)\n",
    "                    temp = self.func(new_dictionary)\n",
    "                    c = c + temp\n",
    "                sorted_letter_count = c.most_common()\n",
    "                for letter, instance_count in sorted_letter_count:\n",
    "                    if letter not in self.guessed_letters:\n",
    "                        guess_letter = letter\n",
    "                        break\n",
    "\n",
    "        if guess_letter == '!':\n",
    "            x = int(len(clean_word) / 3)\n",
    "            if x >= 3:\n",
    "                c = collections.Counter()\n",
    "                for i in range(len(clean_word) - x + 1):\n",
    "                    s = clean_word[i:i + x]\n",
    "                    new_dictionary = self.func2(n_word_dictionary, s)\n",
    "                    temp = self.func(new_dictionary)\n",
    "                    c = c + temp\n",
    "                sorted_letter_count = c.most_common()\n",
    "                for letter, instance_count in sorted_letter_count:\n",
    "                    if letter not in self.guessed_letters:\n",
    "                        guess_letter = letter\n",
    "                        break\n",
    "\n",
    "        if guess_letter == '!':\n",
    "            sorted_letter_count = self.full_dictionary_common_letter_sorted\n",
    "            for letter, instance_count in sorted_letter_count:\n",
    "                if letter not in self.guessed_letters:\n",
    "                    if letter in \"aeiou\" and self.vowel_count(clean_word) > 0.55:\n",
    "                        self.guessed_letters.append(letter)\n",
    "                        continue\n",
    "                    guess_letter = letter\n",
    "                    break\n",
    "\n",
    "        return guess_letter\n",
    "\n",
    "    def start_game(self, practice=True, verbose=True):\n",
    "        # reset guessed letters to empty set and current plausible dictionary to the full dictionary\n",
    "        self.guessed_letters = []\n",
    "        self.current_dictionary = self.full_dictionary\n",
    "\n",
    "        response = self.request(\"/new_game\", {\"practice\":practice})\n",
    "        if response.get('status')==\"approved\":\n",
    "            game_id = response.get('game_id')\n",
    "            word = response.get('word')\n",
    "            tries_remains = response.get('tries_remains')\n",
    "            if verbose:\n",
    "                print(\"Successfully start a new game! Game ID: {0}. # of tries remaining: {1}. Word: {2}.\".format(game_id, tries_remains, word))\n",
    "            while tries_remains>0:\n",
    "                # get guessed letter from user code\n",
    "                guess_letter = self.guess(word)\n",
    "\n",
    "                # append guessed letter to guessed letters field in hangman object\n",
    "                self.guessed_letters.append(guess_letter)\n",
    "                if verbose:\n",
    "                    print(\"Guessing letter: {0}\".format(guess_letter))\n",
    "\n",
    "                try:\n",
    "                    res = self.request(\"/guess_letter\", {\"request\":\"guess_letter\", \"game_id\":game_id, \"letter\":guess_letter})\n",
    "                except HangmanAPIError:\n",
    "                    print('HangmanAPIError exception caught on request.')\n",
    "                    continue\n",
    "                except Exception as e:\n",
    "                    print('Other exception caught on request.')\n",
    "                    raise e\n",
    "\n",
    "                if verbose:\n",
    "                    print(\"Sever response: {0}\".format(res))\n",
    "                status = res.get('status')\n",
    "                tries_remains = res.get('tries_remains')\n",
    "                if status==\"success\":\n",
    "                    if verbose:\n",
    "                        print(\"Successfully finished game: {0}\".format(game_id))\n",
    "                    return True\n",
    "                elif status==\"failed\":\n",
    "                    reason = res.get('reason', '# of tries exceeded!')\n",
    "                    if verbose:\n",
    "                        print(\"Failed game: {0}. Because of: {1}\".format(game_id, reason))\n",
    "                    return False\n",
    "                elif status==\"ongoing\":\n",
    "                    word = res.get('word')\n",
    "        else:\n",
    "            if verbose:\n",
    "                print(\"Failed to start a new game\")\n",
    "        return status==\"success\"\n",
    "\n",
    "    def my_status(self):\n",
    "        return self.request(\"/my_status\", {})\n",
    "\n",
    "    def request(\n",
    "            self, path, args=None, post_args=None, method=None):\n",
    "        if args is None:\n",
    "            args = dict()\n",
    "        if post_args is not None:\n",
    "            method = \"POST\"\n",
    "\n",
    "        # Add `access_token` to post_args or args if it has not already been\n",
    "        # included.\n",
    "        if self.access_token:\n",
    "            # If post_args exists, we assume that args either does not exists\n",
    "            # or it does not need `access_token`.\n",
    "            if post_args and \"access_token\" not in post_args:\n",
    "                post_args[\"access_token\"] = self.access_token\n",
    "            elif \"access_token\" not in args:\n",
    "                args[\"access_token\"] = self.access_token\n",
    "\n",
    "        try:\n",
    "            # response = self.session.request(\n",
    "            response = requests.request(\n",
    "                method or \"GET\",\n",
    "                self.hangman_url + path,\n",
    "                timeout=self.timeout,\n",
    "                params=args,\n",
    "                data=post_args)\n",
    "        except requests.HTTPError as e:\n",
    "            response = json.loads(e.read())\n",
    "            raise HangmanAPIError(response)\n",
    "\n",
    "        headers = response.headers\n",
    "        if 'json' in headers['content-type']:\n",
    "            result = response.json()\n",
    "        elif \"access_token\" in parse_qs(response.text):\n",
    "            query_str = parse_qs(response.text)\n",
    "            if \"access_token\" in query_str:\n",
    "                result = {\"access_token\": query_str[\"access_token\"][0]}\n",
    "                if \"expires\" in query_str:\n",
    "                    result[\"expires\"] = query_str[\"expires\"][0]\n",
    "            else:\n",
    "                raise HangmanAPIError(response.json())\n",
    "        else:\n",
    "            raise HangmanAPIError('Maintype was not text, or querystring')\n",
    "\n",
    "        if result and isinstance(result, dict) and result.get(\"error\"):\n",
    "            raise HangmanAPIError(result)\n",
    "        return result\n",
    "\n",
    "class HangmanAPIError(Exception):\n",
    "    def __init__(self, result):\n",
    "        self.result = result\n",
    "        self.code = None\n",
    "        try:\n",
    "            self.type = result[\"error_code\"]\n",
    "        except (KeyError, TypeError):\n",
    "            self.type = \"\"\n",
    "\n",
    "        try:\n",
    "            self.message = result[\"error_description\"]\n",
    "        except (KeyError, TypeError):\n",
    "            try:\n",
    "                self.message = result[\"error\"][\"message\"]\n",
    "                self.code = result[\"error\"].get(\"code\")\n",
    "                if not self.type:\n",
    "                    self.type = result[\"error\"].get(\"type\", \"\")\n",
    "            except (KeyError, TypeError):\n",
    "                try:\n",
    "                    self.message = result[\"error_msg\"]\n",
    "                except (KeyError, TypeError):\n",
    "                    self.message = result\n",
    "\n",
    "        Exception.__init__(self, self.message)"
   ]
  },
  {
   "cell_type": "markdown",
   "metadata": {},
   "source": [
    "# API Usage Examples"
   ]
  },
  {
   "cell_type": "markdown",
   "metadata": {},
   "source": [
    "## To start a new game:\n",
    "1. Make sure you have implemented your own \"guess\" method.\n",
    "2. Use the access_token that we sent you to create your HangmanAPI object. \n",
    "3. Start a game by calling \"start_game\" method.\n",
    "4. If you wish to test your function without being recorded, set \"practice\" parameter to 1.\n",
    "5. Note: You have a rate limit of 20 new games per minute. DO NOT start more than 20 new games within one minute."
   ]
  },
  {
   "cell_type": "code",
   "execution_count": 17,
   "metadata": {
    "collapsed": true,
    "jupyter": {
     "outputs_hidden": true
    }
   },
   "outputs": [],
   "source": [
    "api = HangmanAPI(access_token=\"b5b82e08ceb2a49fbfeb2132d4a553\", timeout=2000)\n"
   ]
  },
  {
   "cell_type": "markdown",
   "metadata": {},
   "source": [
    "## Playing practice games:\n",
    "You can use the command below to play up to 100,000 practice games."
   ]
  },
  {
   "cell_type": "code",
   "execution_count": 18,
   "metadata": {
    "collapsed": true,
    "jupyter": {
     "outputs_hidden": true
    },
    "scrolled": true
   },
   "outputs": [
    {
     "name": "stdout",
     "output_type": "stream",
     "text": [
      "Successfully start a new game! Game ID: 92ff26361135. # of tries remaining: 6. Word: _ _ _ _ _ _ _ .\n",
      "Guessing letter: e\n",
      "Sever response: {'game_id': '92ff26361135', 'status': 'ongoing', 'tries_remains': 6, 'word': '_ _ _ e _ _ _ '}\n",
      "Guessing letter: a\n",
      "Sever response: {'game_id': '92ff26361135', 'status': 'ongoing', 'tries_remains': 5, 'word': '_ _ _ e _ _ _ '}\n",
      "Guessing letter: r\n",
      "Sever response: {'game_id': '92ff26361135', 'status': 'ongoing', 'tries_remains': 5, 'word': '_ _ _ e r _ _ '}\n",
      "Guessing letter: i\n",
      "Sever response: {'game_id': '92ff26361135', 'status': 'ongoing', 'tries_remains': 5, 'word': '_ i _ e r _ _ '}\n",
      "Guessing letter: n\n",
      "Sever response: {'game_id': '92ff26361135', 'status': 'ongoing', 'tries_remains': 4, 'word': '_ i _ e r _ _ '}\n",
      "Guessing letter: d\n",
      "Sever response: {'game_id': '92ff26361135', 'status': 'ongoing', 'tries_remains': 3, 'word': '_ i _ e r _ _ '}\n",
      "Guessing letter: s\n",
      "Sever response: {'game_id': '92ff26361135', 'status': 'ongoing', 'tries_remains': 3, 'word': '_ i _ e r _ s '}\n",
      "Guessing letter: v\n",
      "Sever response: {'game_id': '92ff26361135', 'status': 'ongoing', 'tries_remains': 2, 'word': '_ i _ e r _ s '}\n",
      "Guessing letter: t\n",
      "Sever response: {'game_id': '92ff26361135', 'status': 'ongoing', 'tries_remains': 1, 'word': '_ i _ e r _ s '}\n",
      "Guessing letter: h\n",
      "Sever response: {'game_id': '92ff26361135', 'status': 'ongoing', 'tries_remains': 1, 'word': 'h i _ e r _ s '}\n",
      "Guessing letter: m\n",
      "Sever response: {'game_id': '92ff26361135', 'status': 'ongoing', 'tries_remains': 1, 'word': 'h i m e r _ s '}\n",
      "Guessing letter: u\n",
      "Sever response: {'game_id': '92ff26361135', 'status': 'failed', 'tries_remains': 0, 'word': 'h i m e r _ s '}\n",
      "Failed game: 92ff26361135. Because of: # of tries exceeded!\n",
      "run 129 practice games out of an allotted 100,000. practice success rate so far = 0.550\n"
     ]
    }
   ],
   "source": [
    "\n",
    "api.start_game(practice=1,verbose=True)\n",
    "[total_practice_runs,total_recorded_runs,total_recorded_successes,total_practice_successes] = api.my_status() # Get my game stats: (# of tries, # of wins)\n",
    "practice_success_rate = total_practice_successes / total_practice_runs\n",
    "print('run %d practice games out of an allotted 100,000. practice success rate so far = %.3f' % (total_practice_runs, practice_success_rate))\n"
   ]
  },
  {
   "cell_type": "code",
   "execution_count": null,
   "metadata": {},
   "outputs": [],
   "source": [
    "# Assuming the provided code is part of a larger script or function\n",
    "\n",
    "# Set the target practice success rate\n",
    "target_success_rate = 0.57\n",
    "\n",
    "# Continue the loop until the practice success rate reaches the target\n",
    "while practice_success_rate < target_success_rate and total_practice_runs < 100000:\n",
    "    # Start a new game\n",
    "    api.start_game(practice=1, verbose=True)\n",
    "\n",
    "    # Get updated game stats\n",
    "    [total_practice_runs, total_recorded_runs, total_recorded_successes, total_practice_successes] = api.my_status()\n",
    "\n",
    "    # Calculate the practice success rate\n",
    "    practice_success_rate = total_practice_successes / total_practice_runs\n",
    "\n",
    "    # Print the current status\n",
    "    print('run %d practice games out of an allotted 100,000. practice success rate so far = %.3f' % (total_practice_runs, practice_success_rate))\n",
    "\n",
    "# Print a message when the loop exits\n",
    "if practice_success_rate >= target_success_rate:\n",
    "    print(\"Achieved the target practice success rate of %.3f!\" % target_success_rate)\n",
    "else:\n",
    "    print(\"Exceeded the maximum allowed practice games (100,000) without reaching the target success rate.\")\n"
   ]
  },
  {
   "cell_type": "markdown",
   "metadata": {},
   "source": [
    "## Playing recorded games:\n",
    "Please finalize your code prior to running the cell below. Once this code executes once successfully your submission will be finalized. Our system will not allow you to rerun any additional games.\n",
    "\n",
    "Please note that it is expected that after you successfully run this block of code that subsequent runs will result in the error message \"Your account has been deactivated\".\n",
    "\n",
    "Once you've run this section of the code your submission is complete. Please send us your source code via email."
   ]
  },
  {
   "cell_type": "code",
   "execution_count": 16,
   "metadata": {
    "collapsed": true,
    "jupyter": {
     "outputs_hidden": true
    }
   },
   "outputs": [
    {
     "name": "stdout",
     "output_type": "stream",
     "text": [
      "Playing  0  th game\n",
      "Playing  1  th game\n",
      "Playing  2  th game\n",
      "Playing  3  th game\n",
      "Playing  4  th game\n",
      "Playing  5  th game\n",
      "Playing  6  th game\n",
      "Playing  7  th game\n",
      "Playing  8  th game\n",
      "Playing  9  th game\n",
      "Playing  10  th game\n",
      "Playing  11  th game\n",
      "Playing  12  th game\n",
      "Playing  13  th game\n",
      "Playing  14  th game\n",
      "Playing  15  th game\n"
     ]
    }
   ],
   "source": [
    "for i in range(1000):\n",
    "    print('Playing ', i, ' th game')\n",
    "    # Uncomment the following line to execute your final runs. Do not do this until you are satisfied with your submission\n",
    "    \n",
    "    api.start_game(practice=0,verbose=False)\n",
    "    \n",
    "    # DO NOT REMOVE as otherwise the server may lock you out for too high frequency of requests\n",
    "    time.sleep(0.5)"
   ]
  },
  {
   "cell_type": "markdown",
   "metadata": {},
   "source": [
    "## To check your game statistics\n",
    "1. Simply use \"my_status\" method.\n",
    "2. Returns your total number of games, and number of wins."
   ]
  },
  {
   "cell_type": "code",
   "execution_count": 19,
   "metadata": {
    "collapsed": true,
    "jupyter": {
     "outputs_hidden": true
    }
   },
   "outputs": [
    {
     "name": "stdout",
     "output_type": "stream",
     "text": [
      "overall success rate = 0.567\n"
     ]
    }
   ],
   "source": [
    "[total_practice_runs,total_recorded_runs,total_recorded_successes,total_practice_successes] = api.my_status() # Get my game stats: (# of tries, # of wins)\n",
    "success_rate = total_recorded_successes/total_recorded_runs\n",
    "print('overall success rate = %.3f' % success_rate)"
   ]
  }
 ],
 "metadata": {
  "kernelspec": {
   "display_name": "Python 3.8.10 64-bit (microsoft store)",
   "language": "python",
   "name": "python3"
  },
  "language_info": {
   "codemirror_mode": {
    "name": "ipython",
    "version": 3
   },
   "file_extension": ".py",
   "mimetype": "text/x-python",
   "name": "python",
   "nbconvert_exporter": "python",
   "pygments_lexer": "ipython3",
   "version": "3.8.0"
  },
  "vscode": {
   "interpreter": {
    "hash": "edc69e2013d20b793f0b195478e50af454875c51ff11c315880103bbc4c5eddb"
   }
  }
 },
 "nbformat": 4,
 "nbformat_minor": 4
}
